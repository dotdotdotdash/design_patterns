{
 "cells": [
  {
   "cell_type": "code",
   "execution_count": 549,
   "metadata": {},
   "outputs": [],
   "source": [
    "import matplotlib.pyplot as plt\n",
    "import math\n",
    "from random import randrange"
   ]
  },
  {
   "cell_type": "code",
   "execution_count": 550,
   "metadata": {},
   "outputs": [],
   "source": [
    "class Node:\n",
    "    def __init__(self):\n",
    "        self.x = 0\n",
    "        self.y = 0\n",
    "        self.node_id = -1\n",
    "        self.g_cost = math.inf\n",
    "        self.h_cost = math.inf\n",
    "        self.f_cost = math.inf\n",
    "        self.is_obstacle = False\n",
    "        self.is_visited = False\n",
    "        self.parent = None\n",
    "        \n",
    "        # Strictly for visualization purposes\n",
    "        self.is_start = False\n",
    "        self.is_goal = False\n",
    "        \n",
    "    def __eq__(self, other):\n",
    "        return self.node_id == other.node_id"
   ]
  },
  {
   "cell_type": "code",
   "execution_count": 551,
   "metadata": {},
   "outputs": [],
   "source": [
    "class Map:\n",
    "    def __init__(self, height, width):\n",
    "        self.height = height\n",
    "        self.width = width\n",
    "        self.map = []\n",
    "    \n",
    "    def create_map(self):\n",
    "        k = 0\n",
    "        for x in range(self.width):\n",
    "            row = []\n",
    "            for y in range(self.height):\n",
    "                node = Node()\n",
    "                node.x = x\n",
    "                node.y = y\n",
    "                node.node_id = k\n",
    "                k = k + 1\n",
    "                row.append(node)\n",
    "            self.map.append(row)\n",
    "        \n",
    "    def create_obstacles(self, obstacles):\n",
    "        for obstacle in obstacles:\n",
    "            if not self.map[obstacle['x']][obstacle['y']].is_start and \\\n",
    "               not self.map[obstacle['x']][obstacle['y']].is_goal:\n",
    "                self.map[obstacle['x']][obstacle['y']].is_obstacle = True\n",
    "            \n",
    "    def get_node(self, x, y):\n",
    "        return self.map[x][y]\n",
    "        \n",
    "    def display_map(self):\n",
    "        for i in range(self.width):\n",
    "            for j in range(self.height):\n",
    "                if self.map[i][j].is_obstacle:\n",
    "                    plt.plot(self.map[i][j].x, self.map[i][j].y, 'rs')\n",
    "                elif self.map[i][j].is_start:\n",
    "                    plt.plot(self.map[i][j].x, self.map[i][j].y, 'b+')\n",
    "                elif self.map[i][j].is_goal:\n",
    "                    plt.plot(self.map[i][j].x, self.map[i][j].y, 'm*')\n",
    "                else:\n",
    "                    plt.plot(self.map[i][j].x, self.map[i][j].y, 'g.')\n",
    "\n",
    "        plt.show()\n",
    "        \n",
    "    def plot_path(self, x_path, y_path):\n",
    "        for i in range(self.width):\n",
    "            for j in range(self.height):\n",
    "                if self.map[i][j].is_obstacle:\n",
    "                    plt.plot(self.map[i][j].x, self.map[i][j].y, 'rs')\n",
    "                elif self.map[i][j].is_start:\n",
    "                    plt.plot(self.map[i][j].x, self.map[i][j].y, 'b+')\n",
    "                elif self.map[i][j].is_goal:\n",
    "                    plt.plot(self.map[i][j].x, self.map[i][j].y, 'm*')\n",
    "                else:\n",
    "                    plt.plot(self.map[i][j].x, self.map[i][j].y, 'g.')\n",
    "        \n",
    "        plt.plot(x_path, y_path, 'k-')\n",
    "        plt.show()"
   ]
  },
  {
   "cell_type": "code",
   "execution_count": 552,
   "metadata": {},
   "outputs": [],
   "source": [
    "class Astar:\n",
    "    def __init__(self, map):\n",
    "        self.open_list = []\n",
    "        self.closed_list = []\n",
    "        self.map = map\n",
    "        \n",
    "    def reconstruct_path(self, goal):\n",
    "        x_path = []\n",
    "        y_path = []\n",
    "        \n",
    "        current = goal\n",
    "        while not current is None:\n",
    "            x_path.append(current.x)\n",
    "            y_path.append(current.y)\n",
    "            current = current.parent\n",
    "        \n",
    "        self.map.plot_path(x_path, y_path)\n",
    "    \n",
    "    def calculate_euclidean_distance(self, node_1, node_2):\n",
    "        return math.sqrt((node_1.x - node_2.x)**2 + (node_1.y - node_2.y)**2)\n",
    "    \n",
    "    def identify_neighbors(self, node):\n",
    "        neighbors = []\n",
    "        if node.x - 1 >= 0:\n",
    "            neighbors.append(self.map.map[node.x - 1][node.y])\n",
    "        if node.x + 1 <= self.map.width - 1:\n",
    "            neighbors.append(self.map.map[node.x + 1][node.y])\n",
    "        if node.y - 1 >= 0:\n",
    "            neighbors.append(self.map.map[node.x][node.y - 1])\n",
    "        if node.y + 1 <= self.map.height - 1:\n",
    "            neighbors.append(self.map.map[node.x][node.y + 1])\n",
    "        return neighbors\n",
    "\n",
    "    def find_path(self, start, goal):\n",
    "        self.open_list.clear()\n",
    "        self.closed_list.clear()\n",
    "        \n",
    "        start.g_cost = 0\n",
    "        start.h_cost = self.calculate_euclidean_distance(start, goal)\n",
    "        start.f_cost = self.calculate_euclidean_distance(start, goal)\n",
    "        \n",
    "        self.open_list.append(start)\n",
    "        \n",
    "        while len(self.open_list) > 0:\n",
    "            self.open_list = sorted(self.open_list, key=lambda x: x.f_cost, reverse=False)\n",
    "            \n",
    "            while len(self.open_list) > 0 and self.open_list[0].is_visited:\n",
    "                self.open_list.pop(0)\n",
    "            \n",
    "            if len(self.open_list) == 0:\n",
    "                break\n",
    "                \n",
    "            current = self.open_list[0]\n",
    "            current.is_visited = True\n",
    "            \n",
    "            for neighbor in self.identify_neighbors(current):\n",
    "                if not neighbor.is_visited and not neighbor.is_obstacle:\n",
    "                    self.open_list.append(neighbor)\n",
    "                    \n",
    "                tentative_g_cost = current.g_cost + 1\n",
    "                if tentative_g_cost < neighbor.g_cost:\n",
    "                    neighbor.parent = current\n",
    "                    neighbor.g_cost = tentative_g_cost\n",
    "                    neighbor.f_cost = neighbor.g_cost + self.calculate_euclidean_distance(neighbor, goal)\n",
    "        \n",
    "        self.reconstruct_path(goal)"
   ]
  },
  {
   "cell_type": "code",
   "execution_count": 563,
   "metadata": {},
   "outputs": [],
   "source": [
    "map = Map(15,15)\n",
    "map.create_map()"
   ]
  },
  {
   "cell_type": "code",
   "execution_count": 565,
   "metadata": {},
   "outputs": [
    {
     "data": {
      "image/png": "[encoded data removed]",
      "text/plain": [
       "<Figure size 432x288 with 1 Axes>"
      ]
     },
     "metadata": {
      "needs_background": "light"
     },
     "output_type": "display_data"
    }
   ],
   "source": [
    "start = map.get_node(0, 0)\n",
    "start.is_start = True\n",
    "\n",
    "goal = map.get_node(5, 10)\n",
    "goal.is_goal = True\n",
    "    \n",
    "map.display_map()"
   ]
  },
  {
   "cell_type": "code",
   "execution_count": 566,
   "metadata": {},
   "outputs": [
    {
     "data": {
      "image/png": "[encoded data removed]",
      "text/plain": [
       "<Figure size 432x288 with 1 Axes>"
      ]
     },
     "metadata": {
      "needs_background": "light"
     },
     "output_type": "display_data"
    }
   ],
   "source": [
    "n_obstacles = 30\n",
    "for _ in range(n_obstacles):\n",
    "    map.create_obstacles([{'x': randrange(0, map.width - 1, 1), 'y': randrange(0, map.height - 1, 1)}])\n",
    "\n",
    "map.display_map()"
   ]
  },
  {
   "cell_type": "code",
   "execution_count": 567,
   "metadata": {},
   "outputs": [
    {
     "data": {
      "image/png": "[encoded data removed]",
      "text/plain": [
       "<Figure size 432x288 with 1 Axes>"
      ]
     },
     "metadata": {
      "needs_background": "light"
     },
     "output_type": "display_data"
    }
   ],
   "source": [
    "astar = Astar(map)\n",
    "astar.find_path(start, goal)"
   ]
  },
  {
   "cell_type": "code",
   "execution_count": null,
   "metadata": {},
   "outputs": [],
   "source": []
  }
 ],
 "metadata": {
  "kernelspec": {
   "display_name": "Python 3",
   "language": "python",
   "name": "python3"
  },
  "language_info": {
   "codemirror_mode": {
    "name": "ipython",
    "version": 3
   },
   "file_extension": ".py",
   "mimetype": "text/x-python",
   "name": "python",
   "nbconvert_exporter": "python",
   "pygments_lexer": "ipython3",
   "version": "3.8.3"
  }
 },
 "nbformat": 4,
 "nbformat_minor": 4
}
